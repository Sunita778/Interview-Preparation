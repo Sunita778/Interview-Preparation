{
 "cells": [
  {
   "cell_type": "markdown",
   "id": "6b1e44ec",
   "metadata": {},
   "source": [
    "## Submitted by: `Sunita Pradhan`"
   ]
  },
  {
   "cell_type": "markdown",
   "id": "528540e3",
   "metadata": {},
   "source": [
    "### Q1.  Given an array of integers nums and an integer target, return indices of the two numbers such that they add up to target.\n",
    "\n",
    "You may assume that each input would have exactly one solution, and you may not use the same element twice.\n",
    "\n",
    "You can return the answer in any order.\n",
    "\n",
    " Example: \n",
    "Input: nums = [2,7,11,15], target = 9\n",
    "Output0 [0,1]\n",
    "\n",
    " Explanation:  Because nums[0] + nums[1] == 9, we return [0, 1]"
   ]
  },
  {
   "cell_type": "code",
   "execution_count": 1,
   "id": "30e06287",
   "metadata": {},
   "outputs": [
    {
     "name": "stdout",
     "output_type": "stream",
     "text": [
      "5 6 7 8 9 4\n",
      "13\n"
     ]
    },
    {
     "data": {
      "text/plain": [
       "[0, 3]"
      ]
     },
     "execution_count": 1,
     "metadata": {},
     "output_type": "execute_result"
    }
   ],
   "source": [
    "def twoSum(arr):\n",
    "    for i in range(len(arr)):\n",
    "        for j in range(i+1, len(arr)):\n",
    "            if arr[i] + arr[j] == target:\n",
    "                return [i, j]\n",
    "            \n",
    "arr = list(map(int, input().split()))\n",
    "target = int(input())\n",
    "\n",
    "twoSum(arr)"
   ]
  },
  {
   "cell_type": "code",
   "execution_count": 3,
   "id": "194f76b6",
   "metadata": {},
   "outputs": [
    {
     "name": "stdout",
     "output_type": "stream",
     "text": [
      "2 7 11 15\n",
      "9\n"
     ]
    },
    {
     "data": {
      "text/plain": [
       "[0, 1]"
      ]
     },
     "execution_count": 3,
     "metadata": {},
     "output_type": "execute_result"
    }
   ],
   "source": [
    "arr = list(map(int, input().split()))\n",
    "target = int(input())\n",
    "\n",
    "twoSum(arr)"
   ]
  },
  {
   "cell_type": "markdown",
   "id": "a44e80b0",
   "metadata": {},
   "source": [
    "### Q2.  Given an integer array nums and an integer val, remove all occurrences of val in nums in-place. The order of the elements may be changed. Then return the number of elements in nums which are not equal to val.\n",
    "\n",
    "Consider the number of elements in nums which are not equal to val be k, to get accepted, you need to do the following things:\n",
    "\n",
    "- Change the array nums such that the first k elements of nums contain the elements which are not equal to val. The remaining elements of nums are not important as well as the size of nums.\n",
    "- Return k.\n",
    "\n",
    " Example : \n",
    "Input: nums = [3,2,2,3], val = 3\n",
    "Output: 2, nums = [2,2,_*,_*]\n",
    "\n",
    " Explanation:  Your function should return k = 2, with the first two elements of nums being 2. It does not matter what you leave beyond the returned k (hence they are underscores)"
   ]
  },
  {
   "cell_type": "code",
   "execution_count": 10,
   "id": "de32de40",
   "metadata": {},
   "outputs": [
    {
     "name": "stdout",
     "output_type": "stream",
     "text": [
      "2 3 3 2\n",
      "2\n"
     ]
    },
    {
     "data": {
      "text/plain": [
       "2"
      ]
     },
     "execution_count": 10,
     "metadata": {},
     "output_type": "execute_result"
    }
   ],
   "source": [
    "def remove_occurance(arr, val):\n",
    "    l = []\n",
    "    for i in arr:\n",
    "        if i != val:\n",
    "            l.append(i)\n",
    "    return len(l)\n",
    "\n",
    "arr = list(map(int, input().split()))\n",
    "val = int(input())    \n",
    "remove_occurance(arr,val)"
   ]
  },
  {
   "cell_type": "code",
   "execution_count": 11,
   "id": "ae12a611",
   "metadata": {},
   "outputs": [
    {
     "name": "stdout",
     "output_type": "stream",
     "text": [
      "4 5 6 7 8 6 6 4 5\n",
      "5\n"
     ]
    },
    {
     "data": {
      "text/plain": [
       "7"
      ]
     },
     "execution_count": 11,
     "metadata": {},
     "output_type": "execute_result"
    }
   ],
   "source": [
    "arr = list(map(int, input().split()))\n",
    "val = int(input())\n",
    "remove_occurance(arr,val)"
   ]
  },
  {
   "cell_type": "code",
   "execution_count": 12,
   "id": "9b342c0f",
   "metadata": {},
   "outputs": [
    {
     "name": "stdout",
     "output_type": "stream",
     "text": [
      "34 45 2 3 4 5 6 7 5 4 3 4 5 6 7 8 9 0 9 8 7 7 6 5 5 4 2\n",
      "7\n"
     ]
    },
    {
     "data": {
      "text/plain": [
       "23"
      ]
     },
     "execution_count": 12,
     "metadata": {},
     "output_type": "execute_result"
    }
   ],
   "source": [
    "arr = list(map(int, input().split()))\n",
    "val = int(input())\n",
    "remove_occurance(arr,val)"
   ]
  },
  {
   "cell_type": "markdown",
   "id": "e70174b0",
   "metadata": {},
   "source": [
    "###  Q3.  Given a sorted array of distinct integers and a target value, return the index if the target is found. If not, return the index where it would be if it were inserted in order.\n",
    "\n",
    "You must write an algorithm with O(log n) runtime complexity.\n",
    "\n",
    " Example 1: \n",
    "Input: nums = [1,3,5,6], target = 5\n",
    "\n",
    "Output: 2"
   ]
  },
  {
   "cell_type": "code",
   "execution_count": 32,
   "id": "35070f01",
   "metadata": {},
   "outputs": [],
   "source": [
    "def find_target(arr, target):\n",
    "    if target in arr:\n",
    "        return arr.index(target)\n",
    "    else:\n",
    "        arr.append(target)\n",
    "        arr.sort()\n",
    "        return arr.index(target)"
   ]
  },
  {
   "cell_type": "code",
   "execution_count": 36,
   "id": "47f08743",
   "metadata": {},
   "outputs": [
    {
     "name": "stdout",
     "output_type": "stream",
     "text": [
      "6\n"
     ]
    }
   ],
   "source": [
    "arr = [1,3,5,4,5,8,9,11,9]\n",
    "target = 9\n",
    "print(find_target(arr, target))"
   ]
  },
  {
   "cell_type": "markdown",
   "id": "05525d8b",
   "metadata": {},
   "source": [
    "### Q4.  You are given a large integer represented as an integer array digits, where each digits[i] is the ith digit of the integer. The digits are ordered from most significant to least significant in left-to-right order. The large integer does not contain any leading 0's. Increment the large integer by one and return the resulting array of digits.\n",
    "\n",
    "Example 1: \n",
    "\n",
    "Input: digits = [1,2,3]\n",
    "\n",
    "Output: [1,2,4]\n",
    "\n",
    "Explanation:  The array represents the integer 123.\n",
    "\n",
    "Incrementing by one gives 123 + 1 = 124.\n",
    "\n",
    "Thus, the result should be [1,2,4]."
   ]
  },
  {
   "cell_type": "code",
   "execution_count": 95,
   "id": "fe48ed8c",
   "metadata": {},
   "outputs": [],
   "source": [
    "def digitsPlusOne(arr):\n",
    "    l=len(arr)-1\n",
    "    n=0\n",
    "    for i in arr:\n",
    "        n=n+(10**l)*i\n",
    "        l-=1\n",
    "    n+=1\n",
    "    return [int(d) for d in str(n)]"
   ]
  },
  {
   "cell_type": "code",
   "execution_count": null,
   "id": "d26f3130",
   "metadata": {},
   "outputs": [],
   "source": [
    "#Another method"
   ]
  },
  {
   "cell_type": "code",
   "execution_count": 97,
   "id": "5f750901",
   "metadata": {},
   "outputs": [
    {
     "data": {
      "text/plain": [
       "[1, 2, 3, 6]"
      ]
     },
     "execution_count": 97,
     "metadata": {},
     "output_type": "execute_result"
    }
   ],
   "source": [
    "arr=[1,2,3, 5]\n",
    "digitsPlusOne(arr)"
   ]
  },
  {
   "cell_type": "code",
   "execution_count": 98,
   "id": "631f34aa",
   "metadata": {},
   "outputs": [],
   "source": [
    "arr=[1,2,3, 5]\n",
    "arr[len(arr)-1]=arr[len(arr)-1]+1"
   ]
  },
  {
   "cell_type": "code",
   "execution_count": 99,
   "id": "588b2759",
   "metadata": {},
   "outputs": [
    {
     "data": {
      "text/plain": [
       "[1, 2, 3, 6]"
      ]
     },
     "execution_count": 99,
     "metadata": {},
     "output_type": "execute_result"
    }
   ],
   "source": [
    "arr"
   ]
  },
  {
   "cell_type": "markdown",
   "id": "58aaa32a",
   "metadata": {},
   "source": [
    "###  Q5.  You are given two integer arrays nums1 and nums2, sorted in non-decreasing order, and two integers m and n, representing the number of elements in nums1 and nums2 respectively.\n",
    "\n",
    "Merge nums1 and nums2 into a single array sorted in non-decreasing order.\n",
    "\n",
    "The final sorted array should not be returned by the function, but instead be stored inside the array nums1. To accommodate this, nums1 has a length of m + n, where the first m elements denote the elements that should be merged, and the last n elements are set to 0 and should be ignored. nums2 has a length of n.\n",
    "\n",
    "Example 1: \n",
    "\n",
    "Input: nums1 = [1,2,3,0,0,0], m = 3, nums2 = [2,5,6], n = 3\n",
    "\n",
    "Output: [1,2,2,3,5,6]\n",
    "\n",
    "Explanation:  The arrays we are merging are [1,2,3] and [2,5,6].\n",
    "\n",
    "The result of the merge is [1,2,2,3,5,6] with the underlined elements coming from nums1."
   ]
  },
  {
   "cell_type": "code",
   "execution_count": 120,
   "id": "f597b119",
   "metadata": {},
   "outputs": [
    {
     "name": "stdout",
     "output_type": "stream",
     "text": [
      "[1, 2, 2, 3, 5, 6]\n"
     ]
    }
   ],
   "source": [
    "def arr_merge(nums1, nums2, m, n):\n",
    "    nums1[:] = nums1[:m]  # Trim nums1 to contain only the valid elements\n",
    "    nums1.extend(nums2)  # Append nums2 to nums1\n",
    "    nums1.sort()  # Sort the merged array\n",
    "    nums2.clear()\n",
    "    n = 0\n",
    "    m = len(nums1)\n",
    "\n",
    "nums1 = [1, 2, 3, 4, 5, 0, 0, 0]\n",
    "nums2 = [2, 5, 6]\n",
    "m = 3\n",
    "n = 3\n",
    "arr_merge(nums1, nums2, m, n)\n",
    "print(nums1)"
   ]
  },
  {
   "cell_type": "markdown",
   "id": "ee123e86",
   "metadata": {},
   "source": [
    "### Q6.  Given an integer array nums, return true if any value appears at least twice in the array, and return false if every element is distinct.\n",
    "\n",
    "Example 1:\n",
    "Input: nums = [1,2,3,1]\n",
    "\n",
    "Output: true"
   ]
  },
  {
   "cell_type": "code",
   "execution_count": 9,
   "id": "80a52e9a",
   "metadata": {},
   "outputs": [],
   "source": [
    "def valid_array(nums):\n",
    "    if len(set(nums)) == len(nums):\n",
    "        return (False)\n",
    "    else:\n",
    "        return (True)"
   ]
  },
  {
   "cell_type": "code",
   "execution_count": 10,
   "id": "2aa8d41b",
   "metadata": {},
   "outputs": [
    {
     "data": {
      "text/plain": [
       "True"
      ]
     },
     "execution_count": 10,
     "metadata": {},
     "output_type": "execute_result"
    }
   ],
   "source": [
    "nums = [1,2,3,1]\n",
    "valid_array(nums)"
   ]
  },
  {
   "cell_type": "code",
   "execution_count": 11,
   "id": "e738b01b",
   "metadata": {},
   "outputs": [
    {
     "data": {
      "text/plain": [
       "False"
      ]
     },
     "execution_count": 11,
     "metadata": {},
     "output_type": "execute_result"
    }
   ],
   "source": [
    "nums = [1,2,3,4,5,6,7]\n",
    "valid_array(nums)"
   ]
  },
  {
   "cell_type": "code",
   "execution_count": 13,
   "id": "0e45195b",
   "metadata": {},
   "outputs": [
    {
     "data": {
      "text/plain": [
       "True"
      ]
     },
     "execution_count": 13,
     "metadata": {},
     "output_type": "execute_result"
    }
   ],
   "source": [
    "nums = [3,4,5,6,7,5,4]\n",
    "valid_array(nums)"
   ]
  },
  {
   "cell_type": "markdown",
   "id": "35378868",
   "metadata": {},
   "source": [
    "### Q7.  Given an integer array nums, move all 0's to the end of it while maintaining the relative order of the nonzero elements.\n",
    "\n",
    "Note that you must do this in-place without making a copy of the array.\n",
    "\n",
    "Example 1: \n",
    "\n",
    "Input: nums = [0,1,0,3,12]\n",
    "\n",
    "Output: [1,3,12,0,0]"
   ]
  },
  {
   "cell_type": "code",
   "execution_count": 14,
   "id": "a023da3f",
   "metadata": {},
   "outputs": [],
   "source": [
    "def move_zeros(nums):\n",
    "    left = 0 \n",
    "    for right in range(len(nums)):\n",
    "        if nums[right] != 0:\n",
    "            nums[left] = nums[right]\n",
    "            left += 1\n",
    "    while left < len(nums):\n",
    "        nums[left] = 0\n",
    "        left += 1\n",
    "    return nums"
   ]
  },
  {
   "cell_type": "code",
   "execution_count": 15,
   "id": "e2618fb7",
   "metadata": {},
   "outputs": [
    {
     "name": "stdout",
     "output_type": "stream",
     "text": [
      "[1, 3, 12, 0, 0]\n"
     ]
    }
   ],
   "source": [
    "nums = [0, 1, 0, 3, 12]\n",
    "result = move_zeros(nums)\n",
    "print(result)"
   ]
  },
  {
   "cell_type": "code",
   "execution_count": 16,
   "id": "3c813237",
   "metadata": {},
   "outputs": [
    {
     "name": "stdout",
     "output_type": "stream",
     "text": [
      "[7, 11, 3, 12, 0, 0, 0]\n"
     ]
    }
   ],
   "source": [
    "nums = [7,0,0,11, 0, 3, 12]\n",
    "result = move_zeros(nums)\n",
    "print(result)"
   ]
  },
  {
   "cell_type": "code",
   "execution_count": 19,
   "id": "e579abc1",
   "metadata": {},
   "outputs": [
    {
     "name": "stdout",
     "output_type": "stream",
     "text": [
      "[5, 9, 12, 0, 0]\n"
     ]
    }
   ],
   "source": [
    "nums = [0,0,5, 9, 12]\n",
    "result = move_zeros(nums)\n",
    "print(result)"
   ]
  },
  {
   "cell_type": "markdown",
   "id": "511e2250",
   "metadata": {},
   "source": [
    "### Q8.  You have a set of integers s, which originally contains all the numbers from 1 to n. Unfortunately, due to some error, one of the numbers in s got duplicated to another number in the set, which results in repetition of one number and loss of another number.\n",
    "\n",
    "You are given an integer array nums representing the data status of this set after the error.\n",
    "\n",
    "Find the number that occurs twice and the number that is missing and return them in the form of an array.\n",
    "\n",
    "Example 1: \n",
    "\n",
    "Input: nums = [1,2,2,4]\n",
    "\n",
    "Output: [2,3]"
   ]
  },
  {
   "cell_type": "code",
   "execution_count": 26,
   "id": "1c62a19f",
   "metadata": {},
   "outputs": [],
   "source": [
    "def duplicated_and_missing_value(nums):\n",
    "    duplicate = 0\n",
    "    for i in nums:\n",
    "        if nums.count(i) == 2:\n",
    "            duplicate += i\n",
    "            break\n",
    "    missing_value = duplicate+1\n",
    "    print([duplicate,missing_value])"
   ]
  },
  {
   "cell_type": "code",
   "execution_count": 27,
   "id": "dd532e2e",
   "metadata": {},
   "outputs": [
    {
     "name": "stdout",
     "output_type": "stream",
     "text": [
      "[2, 3]\n"
     ]
    }
   ],
   "source": [
    "nums = [1,2,2,3]\n",
    "duplicated_and_missing_value(nums)"
   ]
  },
  {
   "cell_type": "code",
   "execution_count": 29,
   "id": "f7c5cc52",
   "metadata": {},
   "outputs": [
    {
     "name": "stdout",
     "output_type": "stream",
     "text": [
      "[8, 9]\n"
     ]
    }
   ],
   "source": [
    "nums = [1,2,3,4,5,6,7,8,8,9]\n",
    "duplicated_and_missing_value(nums)"
   ]
  },
  {
   "cell_type": "code",
   "execution_count": null,
   "id": "794cbb89",
   "metadata": {},
   "outputs": [],
   "source": []
  }
 ],
 "metadata": {
  "kernelspec": {
   "display_name": "Python 3 (ipykernel)",
   "language": "python",
   "name": "python3"
  },
  "language_info": {
   "codemirror_mode": {
    "name": "ipython",
    "version": 3
   },
   "file_extension": ".py",
   "mimetype": "text/x-python",
   "name": "python",
   "nbconvert_exporter": "python",
   "pygments_lexer": "ipython3",
   "version": "3.8.5"
  },
  "toc": {
   "base_numbering": 1,
   "nav_menu": {},
   "number_sections": true,
   "sideBar": true,
   "skip_h1_title": false,
   "title_cell": "Table of Contents",
   "title_sidebar": "Contents",
   "toc_cell": false,
   "toc_position": {},
   "toc_section_display": true,
   "toc_window_display": false
  }
 },
 "nbformat": 4,
 "nbformat_minor": 5
}
